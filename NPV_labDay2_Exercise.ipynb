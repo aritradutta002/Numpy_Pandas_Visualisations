{
 "cells": [
  {
   "cell_type": "code",
   "execution_count": 1,
   "metadata": {},
   "outputs": [],
   "source": [
    "import numpy as np"
   ]
  },
  {
   "cell_type": "code",
   "execution_count": null,
   "metadata": {},
   "outputs": [],
   "source": [
    "#1. Write a NumPy program to create a 5x5 zero matrix with elements on the main diagonal equal to 1, 2, 3, 4, 5"
   ]
  },
  {
   "cell_type": "code",
   "execution_count": 2,
   "metadata": {},
   "outputs": [
    {
     "data": {
      "text/plain": [
       "array([[1, 0, 0, 0, 0],\n",
       "       [0, 2, 0, 0, 0],\n",
       "       [0, 0, 3, 0, 0],\n",
       "       [0, 0, 0, 4, 0],\n",
       "       [0, 0, 0, 0, 5]])"
      ]
     },
     "execution_count": 2,
     "metadata": {},
     "output_type": "execute_result"
    }
   ],
   "source": [
    "np.diag([1,2,3,4,5])"
   ]
  },
  {
   "cell_type": "code",
   "execution_count": 1,
   "metadata": {},
   "outputs": [],
   "source": [
    "#2. Write a NumPy program to compute sum of all elements, sum of each column and sum of each row of a given array.\n",
    "#Original array:\n",
    "# [[0 1]\n",
    "#  [2 3]]\n",
    "# Sum of all elements:\n",
    "# 6\n",
    "# Sum of each column:\n",
    "# [2 4]\n",
    "# Sum of each row:\n",
    "# [1 5]"
   ]
  },
  {
   "cell_type": "code",
   "execution_count": 12,
   "metadata": {},
   "outputs": [
    {
     "name": "stdout",
     "output_type": "stream",
     "text": [
      "6\n",
      "[2 4]\n",
      "[1 5]\n"
     ]
    }
   ],
   "source": [
    "n1 =  np.arange(4).reshape(2,2)\n",
    "print(np.sum(n1))\n",
    "print(np.array([np.sum(np.hsplit(n1,2)[0]),np.sum(np.hsplit(n1,2)[1])]))\n",
    "print(np.array([np.sum(np.vsplit(n1,2)[0]),np.sum(np.vsplit(n1,2)[1])]))"
   ]
  },
  {
   "cell_type": "code",
   "execution_count": 3,
   "metadata": {},
   "outputs": [],
   "source": [
    "#3.make a 4x5 array containing numbers from 34-54 and then make it a 1D array\n",
    "#input:[[34 35 36 37 38]\n",
    "#  [39 40 41 42 43]\n",
    "#  [44 45 46 47 48]\n",
    "#  [49 50 51 52 53]]\n",
    "# output:[34 35 36 37 38 39 40 41 42 43 44 45 46 47 48 49 50 51 52 53]"
   ]
  },
  {
   "cell_type": "code",
   "execution_count": 16,
   "metadata": {},
   "outputs": [
    {
     "data": {
      "text/plain": [
       "array([34, 35, 36, 37, 38, 39, 40, 41, 42, 43, 44, 45, 46, 47, 48, 49, 50,\n",
       "       51, 52, 53])"
      ]
     },
     "execution_count": 16,
     "metadata": {},
     "output_type": "execute_result"
    }
   ],
   "source": [
    "n = np.array([[34,35,36,37,38],\n",
    "              [39,40,41,42,43],\n",
    "              [44,45,46,47,48],\n",
    "              [49,50,51,52,53]])\n",
    "np.ravel(n)"
   ]
  },
  {
   "cell_type": "code",
   "execution_count": 17,
   "metadata": {},
   "outputs": [],
   "source": [
    "#4.Using the below given Matrix, generate the output for the below questions."
   ]
  },
  {
   "cell_type": "code",
   "execution_count": 18,
   "metadata": {},
   "outputs": [
    {
     "data": {
      "text/plain": [
       "array([[  1,   2,   3,   4,   5,   6,   7,   8,   9,  10],\n",
       "       [ 11,  12,  13,  14,  15,  16,  17,  18,  19,  20],\n",
       "       [ 21,  22,  23,  24,  25,  26,  27,  28,  29,  30],\n",
       "       [ 31,  32,  33,  34,  35,  36,  37,  38,  39,  40],\n",
       "       [ 41,  42,  43,  44,  45,  46,  47,  48,  49,  50],\n",
       "       [ 51,  52,  53,  54,  55,  56,  57,  58,  59,  60],\n",
       "       [ 61,  62,  63,  64,  65,  66,  67,  68,  69,  70],\n",
       "       [ 71,  72,  73,  74,  75,  76,  77,  78,  79,  80],\n",
       "       [ 81,  82,  83,  84,  85,  86,  87,  88,  89,  90],\n",
       "       [ 91,  92,  93,  94,  95,  96,  97,  98,  99, 100]])"
      ]
     },
     "execution_count": 18,
     "metadata": {},
     "output_type": "execute_result"
    }
   ],
   "source": [
    "simple_matrix = np.arange(1,101).reshape(10,10)\n",
    "simple_matrix"
   ]
  },
  {
   "cell_type": "code",
   "execution_count": null,
   "metadata": {},
   "outputs": [],
   "source": [
    "#4a)Retrieve the last 2 rows and first 3 column values of the above matrix using index & selection technique\n",
    "#4b)Retrieve the value 55 from the above matrix using index & selection technique\n",
    "#4c)Retrieve the values from the 3rd column in the above matrix\n",
    "#4d)Retrieve the values from the 4th row in the above matrix\n",
    "#4e)Retrieve values from the 2nd & 4th rows in the above matrix"
   ]
  },
  {
   "cell_type": "code",
   "execution_count": 23,
   "metadata": {},
   "outputs": [
    {
     "name": "stdout",
     "output_type": "stream",
     "text": [
      "[[81 82 83]\n",
      " [91 92 93]]\n",
      "55\n",
      "[ 3 13 23 33 43 53 63 73 83 93]\n",
      "[31 32 33 34 35 36 37 38 39 40]\n",
      "[[11 12 13 14 15 16 17 18 19 20]\n",
      " [31 32 33 34 35 36 37 38 39 40]]\n"
     ]
    }
   ],
   "source": [
    "print(simple_matrix[-2:,:3])\n",
    "print(simple_matrix[5,4])\n",
    "print(simple_matrix[:,2])\n",
    "print(simple_matrix[3])\n",
    "print(simple_matrix[[1,3]])"
   ]
  },
  {
   "cell_type": "code",
   "execution_count": 49,
   "metadata": {},
   "outputs": [],
   "source": [
    "#5.Write a NumPy program to find the set difference of two arrays. The set difference will return the sorted, unique values in array1 that are not in array2. Go to the editor\n",
    "# Expected Output:\n",
    "# Array1: [ 0 10 20 40 60 80]\n",
    "# Array2: [10, 30, 40, 50, 70, 90]\n",
    "# Set difference between two arrays:\n",
    "# [ 0 20 60 80]"
   ]
  },
  {
   "cell_type": "code",
   "execution_count": 25,
   "metadata": {},
   "outputs": [
    {
     "data": {
      "text/plain": [
       "array([30, 50, 70])"
      ]
     },
     "execution_count": 25,
     "metadata": {},
     "output_type": "execute_result"
    }
   ],
   "source": [
    "array1 = np.array([0, 10, 20, 40, 60, 80])\n",
    "array2 = [10, 30, 40, 50, 70]\n",
    "np.setdiff1d(array2,array1)"
   ]
  },
  {
   "cell_type": "code",
   "execution_count": 52,
   "metadata": {},
   "outputs": [],
   "source": [
    "#6. Write a NumPy program to find the set exclusive-or of two arrays. Set exclusive-or will return the sorted, unique values that are in only one (not both) of the input arrays. Go to the editor\n",
    "# Array1: [ 0 10 20 40 60 80]\n",
    "# Array2: [10, 30, 40, 50, 70]\n",
    "# Unique values that are in only one (not both) of the input arrays:\n",
    "# [ 0 20 30 50 60 70 80]"
   ]
  },
  {
   "cell_type": "code",
   "execution_count": 26,
   "metadata": {},
   "outputs": [
    {
     "data": {
      "text/plain": [
       "array([ 0, 20, 30, 50, 60, 70, 80])"
      ]
     },
     "execution_count": 26,
     "metadata": {},
     "output_type": "execute_result"
    }
   ],
   "source": [
    "np.setxor1d(array1,array2)"
   ]
  },
  {
   "cell_type": "code",
   "execution_count": null,
   "metadata": {},
   "outputs": [],
   "source": [
    "#7. Write a NumPy program to find the union of two arrays. Union will return the unique, sorted array of values that are in either of the two input arrays. Go to the editor\n",
    "# Array1: [ 0 10 20 40 60 80]\n",
    "# Array2: [10, 30, 40, 50, 70]\n",
    "# Unique sorted array of values that are in either of the two input arrays:\n",
    "# [ 0 10 20 30 40 50 60 70 80]"
   ]
  },
  {
   "cell_type": "code",
   "execution_count": 27,
   "metadata": {},
   "outputs": [
    {
     "data": {
      "text/plain": [
       "array([ 0, 10, 20, 30, 40, 50, 60, 70, 80])"
      ]
     },
     "execution_count": 27,
     "metadata": {},
     "output_type": "execute_result"
    }
   ],
   "source": [
    "np.union1d(array1,array2)"
   ]
  },
  {
   "cell_type": "code",
   "execution_count": 59,
   "metadata": {},
   "outputs": [],
   "source": [
    "#8.Write a NumPy program to split an array of 14 elements into 3 arrays, each of which has 2, 4, and 8 \n",
    "#elements in the original order.\n",
    "# Expected Output:\n",
    "# Original array: [ 1 2 3 4 5 6 7 8 9 10 11 12 13 14]\n",
    "# After splitting:\n",
    "# [array([1, 2]), array([3, 4, 5, 6]), array([ 7, 8, 9, 10, 11, 12, 13, 14])]"
   ]
  },
  {
   "cell_type": "code",
   "execution_count": 32,
   "metadata": {},
   "outputs": [
    {
     "data": {
      "text/plain": [
       "[array([1, 2]), array([3, 4, 5, 6]), array([ 7,  8,  9, 10, 11, 12, 13, 14])]"
      ]
     },
     "execution_count": 32,
     "metadata": {},
     "output_type": "execute_result"
    }
   ],
   "source": [
    "n = np.arange(1,15)\n",
    "np.hsplit(n,[2,6])"
   ]
  },
  {
   "cell_type": "code",
   "execution_count": null,
   "metadata": {},
   "outputs": [],
   "source": [
    "#9.Write a NumPy program to split of an array of shape 4x4 it into two arrays along the second axis. \n",
    "# Sample array :\n",
    "# [[ 0 1 2 3]\n",
    "# ........\n",
    "# [12 13 14 15]]\n",
    "# Expected Output:\n",
    "# [array([[ 0, 1],\n",
    "# [ 4, 5],\n",
    "# [ 8, 9],\n",
    "# [12, 13]]), array([[ 2, 3],\n",
    "# [ 6, 7],\n",
    "# [10, 11],\n",
    "# [14, 15]]), array([], shape=(4, 0), dtype=int64)]"
   ]
  },
  {
   "cell_type": "code",
   "execution_count": 34,
   "metadata": {},
   "outputs": [
    {
     "data": {
      "text/plain": [
       "[array([[ 0,  1],\n",
       "        [ 4,  5],\n",
       "        [ 8,  9],\n",
       "        [12, 13]]), array([[ 2,  3],\n",
       "        [ 6,  7],\n",
       "        [10, 11],\n",
       "        [14, 15]])]"
      ]
     },
     "execution_count": 34,
     "metadata": {},
     "output_type": "execute_result"
    }
   ],
   "source": [
    "n = np.arange(16).reshape(4,4)\n",
    "np.hsplit(n,2)"
   ]
  },
  {
   "cell_type": "code",
   "execution_count": null,
   "metadata": {},
   "outputs": [],
   "source": [
    "#10.Write a NumPy program to split a given array into multiple sub-arrays vertically (row-wise). Go to the editor\n",
    "# Sample Output:\n",
    "# Original arrays:\n",
    "# [[ 0. 1. 2. 3.]\n",
    "# .............\n",
    "# [12. 13. 14. 15.]]\n",
    "# Split an array into multiple sub-arrays vertically:\n",
    "# [array([[0., 1., 2., 3.],\n",
    "# [4., 5., 6., 7.]]), array([[ 8., 9., 10., 11.],\n",
    "# [12., 13., 14., 15.]])]"
   ]
  },
  {
   "cell_type": "code",
   "execution_count": 35,
   "metadata": {},
   "outputs": [
    {
     "data": {
      "text/plain": [
       "[array([[0, 1, 2, 3],\n",
       "        [4, 5, 6, 7]]), array([[ 8,  9, 10, 11],\n",
       "        [12, 13, 14, 15]])]"
      ]
     },
     "execution_count": 35,
     "metadata": {},
     "output_type": "execute_result"
    }
   ],
   "source": [
    "np.vsplit(n,2)"
   ]
  },
  {
   "cell_type": "code",
   "execution_count": 68,
   "metadata": {},
   "outputs": [],
   "source": [
    "#11.Write a NumPy program to broadcast on different shapes of arrays where p(3,3) + q(3). \n",
    "#The p variable has a shape of (3, 3), while q only has a shape of 3(1d).\n",
    "\n",
    "# Sample Output:\n",
    "# Original arrays:\n",
    "# Array-1\n",
    "# [[0 0 0]\n",
    "# [1 2 3]\n",
    "# [4 5 6]]\n",
    "# Array-2\n",
    "# [10 11 12]\n",
    "# New Array:\n",
    "# [[10 11 12]\n",
    "# [11 13 15]\n",
    "# [14 16 18]]"
   ]
  },
  {
   "cell_type": "code",
   "execution_count": 36,
   "metadata": {},
   "outputs": [
    {
     "name": "stdout",
     "output_type": "stream",
     "text": [
      "[[10 11 12]\n",
      " [11 13 15]\n",
      " [14 16 18]]\n"
     ]
    }
   ],
   "source": [
    "p = np.array([[0, 0, 0],\n",
    "              [1, 2, 3],\n",
    "              [4, 5, 6]])\n",
    "q = np.array([10,11,12])\n",
    "print(p+q)"
   ]
  },
  {
   "cell_type": "code",
   "execution_count": 37,
   "metadata": {},
   "outputs": [],
   "source": [
    "##12.Write a NumPy program to broadcast on different shapes of arrays where a(,3)(1column:2d) + b(3)(1d)."
   ]
  },
  {
   "cell_type": "code",
   "execution_count": null,
   "metadata": {},
   "outputs": [],
   "source": [
    "#Sample Output:\n",
    "# Original arrays:\n",
    "# Array-1\n",
    "# [[ 0]\n",
    "# [10]\n",
    "# [20]]\n",
    "# Array-2\n",
    "# [10 11 12]\n",
    "# New Array:\n",
    "# [[10 11 12]\n",
    "# [20 21 22]\n",
    "# [30 31 32]]"
   ]
  },
  {
   "cell_type": "code",
   "execution_count": 38,
   "metadata": {},
   "outputs": [
    {
     "name": "stdout",
     "output_type": "stream",
     "text": [
      "[[10 11 12]\n",
      " [20 21 22]\n",
      " [30 31 32]]\n"
     ]
    }
   ],
   "source": [
    "p = np.array([[0],\n",
    "             [10],\n",
    "             [20]])\n",
    "q = np.array([10,11,12])\n",
    "print(p+q)"
   ]
  },
  {
   "cell_type": "code",
   "execution_count": 6,
   "metadata": {},
   "outputs": [],
   "source": [
    "#13.Multiply a 5x3 matrix by a 3x2 matrix"
   ]
  },
  {
   "cell_type": "code",
   "execution_count": 39,
   "metadata": {},
   "outputs": [
    {
     "data": {
      "text/plain": [
       "array([[ 10,  13],\n",
       "       [ 28,  40],\n",
       "       [ 46,  67],\n",
       "       [ 64,  94],\n",
       "       [ 82, 121]])"
      ]
     },
     "execution_count": 39,
     "metadata": {},
     "output_type": "execute_result"
    }
   ],
   "source": [
    "n1 = np.arange(15).reshape(5,3)\n",
    "n2 = np.arange(6).reshape(3,2)\n",
    "n1.dot(n2)"
   ]
  },
  {
   "cell_type": "code",
   "execution_count": null,
   "metadata": {},
   "outputs": [],
   "source": [
    "#14. Calculate the following values for the given matrix\n",
    "# a) Calculate sum of all the values in the matrix\n",
    "\n",
    "# b) Calculate standard deviation of all the values in the matrix\n",
    "\n",
    "# c) Calculate the variance of all values in the matrix\n",
    "\n",
    "# d) Calculate the mean of all values in the matrix\n",
    "\n",
    "# e) Retrieve the largest number from the matrix\n",
    "\n",
    "# f) Retrieve the smallest number from the matrix\n"
   ]
  },
  {
   "cell_type": "code",
   "execution_count": 41,
   "metadata": {},
   "outputs": [
    {
     "name": "stdout",
     "output_type": "stream",
     "text": [
      "91\n",
      "2.0\n",
      "13.0\n",
      "16\n",
      "10\n"
     ]
    }
   ],
   "source": [
    "n = np.array([10,11,12,13,14,15,16])\n",
    "print(np.sum(n))\n",
    "print(np.std(n))\n",
    "print(np.mean(n))\n",
    "print(np.amax(n))\n",
    "print(np.amin(n))"
   ]
  },
  {
   "cell_type": "code",
   "execution_count": null,
   "metadata": {},
   "outputs": [],
   "source": [
    "# 15.Create an array of integers starting from 21 until 31 and name it as array1\n",
    "# Create an array of integers starting from 11 until 21 and name it array2\n",
    "# Calculate the difference between array1 and array2"
   ]
  },
  {
   "cell_type": "code",
   "execution_count": 43,
   "metadata": {},
   "outputs": [
    {
     "data": {
      "text/plain": [
       "array([10, 10, 10, 10, 10, 10, 10, 10, 10, 10, 10])"
      ]
     },
     "execution_count": 43,
     "metadata": {},
     "output_type": "execute_result"
    }
   ],
   "source": [
    "array1 = np.arange(21,32)\n",
    "array2 = np.arange(11,22)\n",
    "array1 - array2"
   ]
  },
  {
   "cell_type": "code",
   "execution_count": 83,
   "metadata": {},
   "outputs": [],
   "source": [
    "#16. Use NumPy to generate a random set of 10 numbers between 0 and 1\n",
    "# Display a boolean array output where all values > 0.2 are True, rest are marked as False"
   ]
  },
  {
   "cell_type": "code",
   "execution_count": 47,
   "metadata": {},
   "outputs": [
    {
     "data": {
      "text/plain": [
       "array([ True,  True,  True,  True, False,  True,  True,  True,  True,\n",
       "       False])"
      ]
     },
     "execution_count": 47,
     "metadata": {},
     "output_type": "execute_result"
    }
   ],
   "source": [
    "np.random.seed(20)\n",
    "n = np.random.rand(10)\n",
    "n>0.2"
   ]
  },
  {
   "cell_type": "code",
   "execution_count": 85,
   "metadata": {},
   "outputs": [],
   "source": [
    "#17.Use NumPy to generate an array matrix of 5x2 random numbers sampled from a standard normal distribution"
   ]
  },
  {
   "cell_type": "code",
   "execution_count": 49,
   "metadata": {},
   "outputs": [
    {
     "data": {
      "text/plain": [
       "array([[-1.27950266,  0.24571517],\n",
       "       [-0.0441948 ,  1.56763255],\n",
       "       [ 1.05110868,  0.40636843],\n",
       "       [-0.1686461 , -3.18970279],\n",
       "       [ 1.12013226,  1.33277821]])"
      ]
     },
     "execution_count": 49,
     "metadata": {},
     "output_type": "execute_result"
    }
   ],
   "source": [
    "np.random.randn(10).reshape(5,2)"
   ]
  },
  {
   "cell_type": "code",
   "execution_count": 87,
   "metadata": {},
   "outputs": [],
   "source": [
    "#18. Create an array of 30 linearly spaced points between 0 and 100:"
   ]
  },
  {
   "cell_type": "code",
   "execution_count": 52,
   "metadata": {},
   "outputs": [
    {
     "data": {
      "text/plain": [
       "(array([  0.        ,   3.44827586,   6.89655172,  10.34482759,\n",
       "         13.79310345,  17.24137931,  20.68965517,  24.13793103,\n",
       "         27.5862069 ,  31.03448276,  34.48275862,  37.93103448,\n",
       "         41.37931034,  44.82758621,  48.27586207,  51.72413793,\n",
       "         55.17241379,  58.62068966,  62.06896552,  65.51724138,\n",
       "         68.96551724,  72.4137931 ,  75.86206897,  79.31034483,\n",
       "         82.75862069,  86.20689655,  89.65517241,  93.10344828,\n",
       "         96.55172414, 100.        ]), 3.4482758620689653)"
      ]
     },
     "execution_count": 52,
     "metadata": {},
     "output_type": "execute_result"
    }
   ],
   "source": [
    "np.linspace(0,100,30,retstep=True)"
   ]
  },
  {
   "cell_type": "code",
   "execution_count": null,
   "metadata": {},
   "outputs": [],
   "source": []
  }
 ],
 "metadata": {
  "kernelspec": {
   "display_name": "Python 3",
   "language": "python",
   "name": "python3"
  },
  "language_info": {
   "codemirror_mode": {
    "name": "ipython",
    "version": 3
   },
   "file_extension": ".py",
   "mimetype": "text/x-python",
   "name": "python",
   "nbconvert_exporter": "python",
   "pygments_lexer": "ipython3",
   "version": "3.7.4"
  }
 },
 "nbformat": 4,
 "nbformat_minor": 2
}
