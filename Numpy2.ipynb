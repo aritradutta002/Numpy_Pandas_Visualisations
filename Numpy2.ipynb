{
 "cells": [
  {
   "cell_type": "code",
   "execution_count": 1,
   "metadata": {},
   "outputs": [],
   "source": [
    "import numpy as np"
   ]
  },
  {
   "cell_type": "code",
   "execution_count": 7,
   "metadata": {},
   "outputs": [
    {
     "data": {
      "text/plain": [
       "array([[25, 38, 19, 30, 32, 44, 50, 36],\n",
       "       [26, 72, 26, 17, 16, 36, 23, 68],\n",
       "       [35, 13, 71, 67, 42, 20, 16, 28],\n",
       "       [13, 27, 53, 26, 28, 69, 39, 55],\n",
       "       [16, 73, 34, 28, 43, 52, 13, 28],\n",
       "       [62, 32, 24, 14, 37, 18, 16, 36]])"
      ]
     },
     "execution_count": 7,
     "metadata": {},
     "output_type": "execute_result"
    }
   ],
   "source": [
    "np.random.seed(20)\n",
    "n68 = np.random.randint(10,80,(6,8))\n",
    "n68"
   ]
  },
  {
   "cell_type": "code",
   "execution_count": 8,
   "metadata": {},
   "outputs": [
    {
     "data": {
      "text/plain": [
       "array([[71, 42, 16],\n",
       "       [53, 28, 39],\n",
       "       [34, 43, 13]])"
      ]
     },
     "execution_count": 8,
     "metadata": {},
     "output_type": "execute_result"
    }
   ],
   "source": [
    "n68[2:5,2:7:2]"
   ]
  },
  {
   "cell_type": "code",
   "execution_count": 9,
   "metadata": {},
   "outputs": [
    {
     "data": {
      "text/plain": [
       "array([[999, 999, 999, 999],\n",
       "       [999, 999, 999, 999],\n",
       "       [999, 999, 999, 999]])"
      ]
     },
     "execution_count": 9,
     "metadata": {},
     "output_type": "execute_result"
    }
   ],
   "source": [
    "np.full(shape=(3,4),fill_value=999)"
   ]
  },
  {
   "cell_type": "code",
   "execution_count": 11,
   "metadata": {},
   "outputs": [
    {
     "data": {
      "text/plain": [
       "array([[0., 0., 0., 0.],\n",
       "       [0., 0., 0., 0.],\n",
       "       [0., 0., 0., 0.]])"
      ]
     },
     "execution_count": 11,
     "metadata": {},
     "output_type": "execute_result"
    }
   ],
   "source": [
    "np.empty(shape=(3,4))"
   ]
  },
  {
   "cell_type": "code",
   "execution_count": 12,
   "metadata": {},
   "outputs": [
    {
     "data": {
      "text/plain": [
       "array([25, 38, 19, 30, 32, 44, 50, 36, 26, 72, 26, 17, 16, 36, 23, 68, 35,\n",
       "       13, 71, 67, 42, 20, 16, 28, 13, 27, 53, 26, 28, 69, 39, 55, 16, 73,\n",
       "       34, 28, 43, 52, 13, 28, 62, 32, 24, 14, 37, 18, 16, 36])"
      ]
     },
     "execution_count": 12,
     "metadata": {},
     "output_type": "execute_result"
    }
   ],
   "source": [
    "np.ravel(n68)"
   ]
  },
  {
   "cell_type": "code",
   "execution_count": 13,
   "metadata": {},
   "outputs": [
    {
     "data": {
      "text/plain": [
       "73"
      ]
     },
     "execution_count": 13,
     "metadata": {},
     "output_type": "execute_result"
    }
   ],
   "source": [
    "np.amax(n68)"
   ]
  },
  {
   "cell_type": "code",
   "execution_count": 16,
   "metadata": {},
   "outputs": [
    {
     "data": {
      "text/plain": [
       "73"
      ]
     },
     "execution_count": 16,
     "metadata": {},
     "output_type": "execute_result"
    }
   ],
   "source": [
    "n68.max()"
   ]
  },
  {
   "cell_type": "code",
   "execution_count": 18,
   "metadata": {},
   "outputs": [
    {
     "data": {
      "text/plain": [
       "array([62, 73, 71, 67, 43, 69, 50, 68])"
      ]
     },
     "execution_count": 18,
     "metadata": {},
     "output_type": "execute_result"
    }
   ],
   "source": [
    "np.amax(n68,axis = 0)"
   ]
  },
  {
   "cell_type": "code",
   "execution_count": 19,
   "metadata": {},
   "outputs": [
    {
     "data": {
      "text/plain": [
       "array([[25, 38, 19, 30, 32, 44, 50, 36],\n",
       "       [26, 72, 26, 17, 16, 36, 23, 68],\n",
       "       [35, 13, 71, 67, 42, 20, 16, 28],\n",
       "       [13, 27, 53, 26, 28, 69, 39, 55],\n",
       "       [16, 73, 34, 28, 43, 52, 13, 28],\n",
       "       [62, 32, 24, 14, 37, 18, 16, 36]])"
      ]
     },
     "execution_count": 19,
     "metadata": {},
     "output_type": "execute_result"
    }
   ],
   "source": [
    "n68"
   ]
  },
  {
   "cell_type": "code",
   "execution_count": 20,
   "metadata": {},
   "outputs": [
    {
     "data": {
      "text/plain": [
       "array([50, 72, 71, 69, 73, 62])"
      ]
     },
     "execution_count": 20,
     "metadata": {},
     "output_type": "execute_result"
    }
   ],
   "source": [
    "np.amax(n68,axis = 1)"
   ]
  },
  {
   "cell_type": "code",
   "execution_count": 21,
   "metadata": {},
   "outputs": [
    {
     "name": "stdout",
     "output_type": "stream",
     "text": [
      "13\n",
      "[13 13 19 14 16 18 13 28]\n",
      "[19 16 13 13 13 14]\n"
     ]
    }
   ],
   "source": [
    "print(np.min(n68))\n",
    "print(np.min(n68,axis = 0))\n",
    "print(np.min(n68,axis = 1))"
   ]
  },
  {
   "cell_type": "code",
   "execution_count": 22,
   "metadata": {},
   "outputs": [
    {
     "name": "stdout",
     "output_type": "stream",
     "text": [
      "31.0\n",
      "[25.5 35.  30.  27.  34.5 40.  19.5 36. ]\n",
      "[34.  26.  31.5 33.5 31.  28. ]\n"
     ]
    }
   ],
   "source": [
    "print(np.median(n68))\n",
    "print(np.median(n68,axis = 0))\n",
    "print(np.median(n68,axis = 1))"
   ]
  },
  {
   "cell_type": "code",
   "execution_count": 23,
   "metadata": {},
   "outputs": [
    {
     "name": "stdout",
     "output_type": "stream",
     "text": [
      "310.6927083333333\n",
      "[262.25       506.91666667 338.47222222 302.22222222  85.33333333\n",
      " 316.80555556 187.13888889 218.13888889]\n",
      "[ 87.6875   431.       433.75     307.6875   341.859375 218.109375]\n"
     ]
    }
   ],
   "source": [
    "print(np.var(n68))\n",
    "print(np.var(n68,axis = 0))\n",
    "print(np.var(n68,axis = 1))"
   ]
  },
  {
   "cell_type": "code",
   "execution_count": 24,
   "metadata": {},
   "outputs": [
    {
     "name": "stdout",
     "output_type": "stream",
     "text": [
      "17.626477479443626\n",
      "[16.19413474 22.51480994 18.39761458 17.38453975  9.23760431 17.79903243\n",
      " 13.67987167 14.76952568]\n",
      "[ 9.3641604  20.76053949 20.8266656  17.54102335 18.48943955 14.7685265 ]\n"
     ]
    }
   ],
   "source": [
    "print(np.std(n68))\n",
    "print(np.std(n68,axis = 0))\n",
    "print(np.std(n68,axis = 1))"
   ]
  },
  {
   "cell_type": "code",
   "execution_count": 25,
   "metadata": {},
   "outputs": [
    {
     "name": "stdout",
     "output_type": "stream",
     "text": [
      "35.125\n",
      "[29.5        42.5        37.83333333 30.33333333 33.         39.83333333\n",
      " 26.16666667 41.83333333]\n",
      "[34.25  35.5   36.5   38.75  35.875 29.875]\n"
     ]
    }
   ],
   "source": [
    "print(np.mean(n68))\n",
    "print(np.mean(n68,axis = 0))\n",
    "print(np.mean(n68,axis = 1))"
   ]
  },
  {
   "cell_type": "code",
   "execution_count": 28,
   "metadata": {},
   "outputs": [
    {
     "data": {
      "text/plain": [
       "array([ 1. ,  3.5,  6. ,  8.5, 11. ])"
      ]
     },
     "execution_count": 28,
     "metadata": {},
     "output_type": "execute_result"
    }
   ],
   "source": [
    "np.linspace(1,11,5)"
   ]
  },
  {
   "cell_type": "code",
   "execution_count": 29,
   "metadata": {},
   "outputs": [],
   "source": [
    "import matplotlib.pyplot as plt"
   ]
  },
  {
   "cell_type": "code",
   "execution_count": 31,
   "metadata": {},
   "outputs": [
    {
     "data": {
      "text/plain": [
       "<matplotlib.collections.PathCollection at 0x2c865bc7c8>"
      ]
     },
     "execution_count": 31,
     "metadata": {},
     "output_type": "execute_result"
    },
    {
     "data": {
      "image/png": "[encoded data removed]",
      "text/plain": [
       "<Figure size 432x288 with 1 Axes>"
      ]
     },
     "metadata": {
      "needs_background": "light"
     },
     "output_type": "display_data"
    }
   ],
   "source": [
    "np.random.seed(20)\n",
    "x = np.random.rand(60,80)   # uniform Distributon Framework\n",
    "plt.scatter(x,x.T)"
   ]
  },
  {
   "cell_type": "code",
   "execution_count": 32,
   "metadata": {},
   "outputs": [
    {
     "data": {
      "text/plain": [
       "<matplotlib.collections.PathCollection at 0x2c8532fc48>"
      ]
     },
     "execution_count": 32,
     "metadata": {},
     "output_type": "execute_result"
    },
    {
     "data": {
      "image/png": "[encoded data removed]",
      "text/plain": [
       "<Figure size 432x288 with 1 Axes>"
      ]
     },
     "metadata": {
      "needs_background": "light"
     },
     "output_type": "display_data"
    }
   ],
   "source": [
    "np.random.seed(20)\n",
    "x = np.random.rand(20,30)   # uniform Distributon Framework\n",
    "plt.scatter(x,x.T)"
   ]
  },
  {
   "cell_type": "code",
   "execution_count": 33,
   "metadata": {},
   "outputs": [
    {
     "data": {
      "text/plain": [
       "<matplotlib.collections.PathCollection at 0x2c8652fc88>"
      ]
     },
     "execution_count": 33,
     "metadata": {},
     "output_type": "execute_result"
    },
    {
     "data": {
      "image/png": "[encoded data removed]",
      "text/plain": [
       "<Figure size 432x288 with 1 Axes>"
      ]
     },
     "metadata": {
      "needs_background": "light"
     },
     "output_type": "display_data"
    }
   ],
   "source": [
    "np.random.seed(20)\n",
    "x = np.random.randn(60,80)   # uniform Distributon Framework\n",
    "plt.scatter(x,x.T)"
   ]
  },
  {
   "cell_type": "markdown",
   "metadata": {},
   "source": [
    "# Broadcasting"
   ]
  },
  {
   "cell_type": "code",
   "execution_count": 34,
   "metadata": {},
   "outputs": [
    {
     "data": {
      "text/plain": [
       "array([[ 0,  1,  2,  3],\n",
       "       [ 4,  5,  6,  7],\n",
       "       [ 8,  9, 10, 11]])"
      ]
     },
     "execution_count": 34,
     "metadata": {},
     "output_type": "execute_result"
    }
   ],
   "source": [
    "n34 = np.arange(12).reshape(3,4)\n",
    "n34"
   ]
  },
  {
   "cell_type": "code",
   "execution_count": 35,
   "metadata": {},
   "outputs": [
    {
     "data": {
      "text/plain": [
       "array([[20, 21, 22, 23],\n",
       "       [24, 25, 26, 27],\n",
       "       [28, 29, 30, 31]])"
      ]
     },
     "execution_count": 35,
     "metadata": {},
     "output_type": "execute_result"
    }
   ],
   "source": [
    "n34 + 20"
   ]
  },
  {
   "cell_type": "code",
   "execution_count": 36,
   "metadata": {},
   "outputs": [
    {
     "data": {
      "text/plain": [
       "array([[ 0,  1,  2,  3],\n",
       "       [ 4,  5,  6,  7],\n",
       "       [ 8,  9, 10, 11]])"
      ]
     },
     "execution_count": 36,
     "metadata": {},
     "output_type": "execute_result"
    }
   ],
   "source": [
    "n34"
   ]
  },
  {
   "cell_type": "code",
   "execution_count": 37,
   "metadata": {},
   "outputs": [
    {
     "data": {
      "text/plain": [
       "array([[0, 1, 2, 3]])"
      ]
     },
     "execution_count": 37,
     "metadata": {},
     "output_type": "execute_result"
    }
   ],
   "source": [
    "n14 = np.arange(4).reshape(1,4)\n",
    "n14"
   ]
  },
  {
   "cell_type": "code",
   "execution_count": 38,
   "metadata": {},
   "outputs": [
    {
     "data": {
      "text/plain": [
       "array([[ 0,  2,  4,  6],\n",
       "       [ 4,  6,  8, 10],\n",
       "       [ 8, 10, 12, 14]])"
      ]
     },
     "execution_count": 38,
     "metadata": {},
     "output_type": "execute_result"
    }
   ],
   "source": [
    "n34 + n14"
   ]
  },
  {
   "cell_type": "code",
   "execution_count": 39,
   "metadata": {},
   "outputs": [
    {
     "ename": "ValueError",
     "evalue": "operands could not be broadcast together with shapes (3,4) (4,1) ",
     "output_type": "error",
     "traceback": [
      "\u001b[1;31m---------------------------------------------------------------------------\u001b[0m",
      "\u001b[1;31mValueError\u001b[0m                                Traceback (most recent call last)",
      "\u001b[1;32m<ipython-input-39-00ec525517f3>\u001b[0m in \u001b[0;36m<module>\u001b[1;34m\u001b[0m\n\u001b[1;32m----> 1\u001b[1;33m \u001b[0mn34\u001b[0m \u001b[1;33m+\u001b[0m \u001b[0mn14\u001b[0m\u001b[1;33m.\u001b[0m\u001b[0mT\u001b[0m\u001b[1;33m\u001b[0m\u001b[1;33m\u001b[0m\u001b[0m\n\u001b[0m",
      "\u001b[1;31mValueError\u001b[0m: operands could not be broadcast together with shapes (3,4) (4,1) "
     ]
    }
   ],
   "source": []
  },
  {
   "cell_type": "markdown",
   "metadata": {},
   "source": [
    "# Stacking"
   ]
  },
  {
   "cell_type": "code",
   "execution_count": 40,
   "metadata": {},
   "outputs": [
    {
     "name": "stdout",
     "output_type": "stream",
     "text": [
      "[[25 38 19 30 85 32]\n",
      " [81 44 50 36 26 72]\n",
      " [26 17 16 36 23 85]\n",
      " [68 35 13 84 85 71]]\n",
      "[[87 67 42 20 16 85]\n",
      " [28 13 87 27 53 26]\n",
      " [28 89 69 81 85 39]\n",
      " [55 16 73 88 34 28]\n",
      " [43 88 52 13 28 80]\n",
      " [62 32 24 14 37 85]\n",
      " [18 16 36 89 88 20]\n",
      " [43 27 50 52 70 40]]\n"
     ]
    }
   ],
   "source": [
    "np.random.seed(20)\n",
    "n46 = np.random.randint(10,90,(4,6))\n",
    "n86 = np.random.randint(10,90,(8,6))\n",
    "print(n46)\n",
    "print(n86)"
   ]
  },
  {
   "cell_type": "code",
   "execution_count": 44,
   "metadata": {},
   "outputs": [
    {
     "data": {
      "text/plain": [
       "array([[25, 38, 19, 30, 85, 32],\n",
       "       [81, 44, 50, 36, 26, 72],\n",
       "       [26, 17, 16, 36, 23, 85],\n",
       "       [68, 35, 13, 84, 85, 71],\n",
       "       [87, 67, 42, 20, 16, 85],\n",
       "       [28, 13, 87, 27, 53, 26],\n",
       "       [28, 89, 69, 81, 85, 39],\n",
       "       [55, 16, 73, 88, 34, 28],\n",
       "       [43, 88, 52, 13, 28, 80],\n",
       "       [62, 32, 24, 14, 37, 85],\n",
       "       [18, 16, 36, 89, 88, 20],\n",
       "       [43, 27, 50, 52, 70, 40]])"
      ]
     },
     "execution_count": 44,
     "metadata": {},
     "output_type": "execute_result"
    }
   ],
   "source": [
    "np.vstack((n46,n86))"
   ]
  },
  {
   "cell_type": "code",
   "execution_count": 45,
   "metadata": {},
   "outputs": [
    {
     "data": {
      "text/plain": [
       "(12, 6)"
      ]
     },
     "execution_count": 45,
     "metadata": {},
     "output_type": "execute_result"
    }
   ],
   "source": [
    "np.vstack((n46,n86)).shape"
   ]
  },
  {
   "cell_type": "code",
   "execution_count": 48,
   "metadata": {},
   "outputs": [
    {
     "name": "stdout",
     "output_type": "stream",
     "text": [
      "[[25 38 19 30]\n",
      " [85 32 81 44]\n",
      " [50 36 26 72]\n",
      " [26 17 16 36]\n",
      " [23 85 68 35]\n",
      " [13 84 85 71]]\n",
      "[[87 67 42 20 16 85 28 13]\n",
      " [87 27 53 26 28 89 69 81]\n",
      " [85 39 55 16 73 88 34 28]\n",
      " [43 88 52 13 28 80 62 32]\n",
      " [24 14 37 85 18 16 36 89]\n",
      " [88 20 43 27 50 52 70 40]]\n"
     ]
    }
   ],
   "source": [
    "np.random.seed(20)\n",
    "n64 = np.random.randint(10,90,(6,4))\n",
    "n68 = np.random.randint(10,90,(6,8))\n",
    "print(n64)\n",
    "print(n68)"
   ]
  },
  {
   "cell_type": "code",
   "execution_count": 49,
   "metadata": {},
   "outputs": [
    {
     "data": {
      "text/plain": [
       "array([[25, 38, 19, 30, 87, 67, 42, 20, 16, 85, 28, 13],\n",
       "       [85, 32, 81, 44, 87, 27, 53, 26, 28, 89, 69, 81],\n",
       "       [50, 36, 26, 72, 85, 39, 55, 16, 73, 88, 34, 28],\n",
       "       [26, 17, 16, 36, 43, 88, 52, 13, 28, 80, 62, 32],\n",
       "       [23, 85, 68, 35, 24, 14, 37, 85, 18, 16, 36, 89],\n",
       "       [13, 84, 85, 71, 88, 20, 43, 27, 50, 52, 70, 40]])"
      ]
     },
     "execution_count": 49,
     "metadata": {},
     "output_type": "execute_result"
    }
   ],
   "source": [
    "np.hstack((n64,n68))"
   ]
  },
  {
   "cell_type": "markdown",
   "metadata": {},
   "source": [
    "# Splitting"
   ]
  },
  {
   "cell_type": "code",
   "execution_count": 50,
   "metadata": {},
   "outputs": [
    {
     "data": {
      "text/plain": [
       "array([[46, 18, 58, 29, 58, 63, 20, 48],\n",
       "       [19, 70, 70, 33, 62, 86, 88, 64],\n",
       "       [83, 37, 49, 19, 24, 41, 66, 66],\n",
       "       [68, 89, 37, 60, 84, 79, 12, 67],\n",
       "       [33, 35, 51, 19, 76, 25, 75, 40],\n",
       "       [59, 50, 21, 79, 10, 68, 47, 78]])"
      ]
     },
     "execution_count": 50,
     "metadata": {},
     "output_type": "execute_result"
    }
   ],
   "source": [
    "n68 = np.random.randint(10,90,(6,8))\n",
    "n68"
   ]
  },
  {
   "cell_type": "code",
   "execution_count": 52,
   "metadata": {},
   "outputs": [
    {
     "data": {
      "text/plain": [
       "[array([[46, 18, 58, 29],\n",
       "        [19, 70, 70, 33],\n",
       "        [83, 37, 49, 19],\n",
       "        [68, 89, 37, 60],\n",
       "        [33, 35, 51, 19],\n",
       "        [59, 50, 21, 79]]), array([[58, 63, 20, 48],\n",
       "        [62, 86, 88, 64],\n",
       "        [24, 41, 66, 66],\n",
       "        [84, 79, 12, 67],\n",
       "        [76, 25, 75, 40],\n",
       "        [10, 68, 47, 78]])]"
      ]
     },
     "execution_count": 52,
     "metadata": {},
     "output_type": "execute_result"
    }
   ],
   "source": [
    "x = np.hsplit(n68,2)\n",
    "x"
   ]
  },
  {
   "cell_type": "code",
   "execution_count": 53,
   "metadata": {},
   "outputs": [
    {
     "data": {
      "text/plain": [
       "array([[46, 18, 58, 29],\n",
       "       [19, 70, 70, 33],\n",
       "       [83, 37, 49, 19],\n",
       "       [68, 89, 37, 60],\n",
       "       [33, 35, 51, 19],\n",
       "       [59, 50, 21, 79]])"
      ]
     },
     "execution_count": 53,
     "metadata": {},
     "output_type": "execute_result"
    }
   ],
   "source": [
    "x[0]"
   ]
  },
  {
   "cell_type": "code",
   "execution_count": 54,
   "metadata": {},
   "outputs": [
    {
     "data": {
      "text/plain": [
       "array([[58, 63, 20, 48],\n",
       "       [62, 86, 88, 64],\n",
       "       [24, 41, 66, 66],\n",
       "       [84, 79, 12, 67],\n",
       "       [76, 25, 75, 40],\n",
       "       [10, 68, 47, 78]])"
      ]
     },
     "execution_count": 54,
     "metadata": {},
     "output_type": "execute_result"
    }
   ],
   "source": [
    "x[1]"
   ]
  },
  {
   "cell_type": "code",
   "execution_count": 55,
   "metadata": {},
   "outputs": [
    {
     "data": {
      "text/plain": [
       "[array([[46, 18, 58, 29, 58, 63, 20, 48],\n",
       "        [19, 70, 70, 33, 62, 86, 88, 64],\n",
       "        [83, 37, 49, 19, 24, 41, 66, 66]]),\n",
       " array([[68, 89, 37, 60, 84, 79, 12, 67],\n",
       "        [33, 35, 51, 19, 76, 25, 75, 40],\n",
       "        [59, 50, 21, 79, 10, 68, 47, 78]])]"
      ]
     },
     "execution_count": 55,
     "metadata": {},
     "output_type": "execute_result"
    }
   ],
   "source": [
    "y = np.vsplit(n68,2)\n",
    "y"
   ]
  },
  {
   "cell_type": "code",
   "execution_count": 56,
   "metadata": {},
   "outputs": [
    {
     "data": {
      "text/plain": [
       "[array([[46, 18, 58, 29, 58, 63, 20, 48],\n",
       "        [19, 70, 70, 33, 62, 86, 88, 64]]),\n",
       " array([[83, 37, 49, 19, 24, 41, 66, 66],\n",
       "        [68, 89, 37, 60, 84, 79, 12, 67]]),\n",
       " array([[33, 35, 51, 19, 76, 25, 75, 40],\n",
       "        [59, 50, 21, 79, 10, 68, 47, 78]])]"
      ]
     },
     "execution_count": 56,
     "metadata": {},
     "output_type": "execute_result"
    }
   ],
   "source": [
    "y = np.vsplit(n68,3)\n",
    "y"
   ]
  },
  {
   "cell_type": "code",
   "execution_count": 58,
   "metadata": {},
   "outputs": [
    {
     "data": {
      "text/plain": [
       "[array([[46, 18, 58],\n",
       "        [19, 70, 70],\n",
       "        [83, 37, 49],\n",
       "        [68, 89, 37],\n",
       "        [33, 35, 51],\n",
       "        [59, 50, 21]]), array([[29, 58],\n",
       "        [33, 62],\n",
       "        [19, 24],\n",
       "        [60, 84],\n",
       "        [19, 76],\n",
       "        [79, 10]]), array([[63],\n",
       "        [86],\n",
       "        [41],\n",
       "        [79],\n",
       "        [25],\n",
       "        [68]]), array([[20, 48],\n",
       "        [88, 64],\n",
       "        [66, 66],\n",
       "        [12, 67],\n",
       "        [75, 40],\n",
       "        [47, 78]]), array([], shape=(6, 0), dtype=int32)]"
      ]
     },
     "execution_count": 58,
     "metadata": {},
     "output_type": "execute_result"
    }
   ],
   "source": [
    "np.hsplit(n68,[3,5,6,8])    # (:3),(3:5),(5:6),(6:8)"
   ]
  },
  {
   "cell_type": "code",
   "execution_count": 59,
   "metadata": {},
   "outputs": [
    {
     "data": {
      "text/plain": [
       "[array([[46, 18, 58],\n",
       "        [19, 70, 70],\n",
       "        [83, 37, 49],\n",
       "        [68, 89, 37],\n",
       "        [33, 35, 51],\n",
       "        [59, 50, 21]]), array([[29, 58],\n",
       "        [33, 62],\n",
       "        [19, 24],\n",
       "        [60, 84],\n",
       "        [19, 76],\n",
       "        [79, 10]]), array([], shape=(6, 0), dtype=int32), array([[58, 63],\n",
       "        [62, 86],\n",
       "        [24, 41],\n",
       "        [84, 79],\n",
       "        [76, 25],\n",
       "        [10, 68]]), array([[20, 48],\n",
       "        [88, 64],\n",
       "        [66, 66],\n",
       "        [12, 67],\n",
       "        [75, 40],\n",
       "        [47, 78]])]"
      ]
     },
     "execution_count": 59,
     "metadata": {},
     "output_type": "execute_result"
    }
   ],
   "source": [
    "np.hsplit(n68,[3,5,4,6]) "
   ]
  },
  {
   "cell_type": "markdown",
   "metadata": {},
   "source": [
    "# 3D Array"
   ]
  },
  {
   "cell_type": "code",
   "execution_count": 60,
   "metadata": {},
   "outputs": [
    {
     "data": {
      "text/plain": [
       "array([[[ 0,  1,  2,  3],\n",
       "        [ 4,  5,  6,  7],\n",
       "        [ 8,  9, 10, 11],\n",
       "        [12, 13, 14, 15],\n",
       "        [16, 17, 18, 19]],\n",
       "\n",
       "       [[20, 21, 22, 23],\n",
       "        [24, 25, 26, 27],\n",
       "        [28, 29, 30, 31],\n",
       "        [32, 33, 34, 35],\n",
       "        [36, 37, 38, 39]],\n",
       "\n",
       "       [[40, 41, 42, 43],\n",
       "        [44, 45, 46, 47],\n",
       "        [48, 49, 50, 51],\n",
       "        [52, 53, 54, 55],\n",
       "        [56, 57, 58, 59]]])"
      ]
     },
     "execution_count": 60,
     "metadata": {},
     "output_type": "execute_result"
    }
   ],
   "source": [
    "n354 = np.arange(60).reshape(3,5,4)\n",
    "n354"
   ]
  },
  {
   "cell_type": "code",
   "execution_count": null,
   "metadata": {},
   "outputs": [],
   "source": []
  }
 ],
 "metadata": {
  "kernelspec": {
   "display_name": "Python 3",
   "language": "python",
   "name": "python3"
  },
  "language_info": {
   "codemirror_mode": {
    "name": "ipython",
    "version": 3
   },
   "file_extension": ".py",
   "mimetype": "text/x-python",
   "name": "python",
   "nbconvert_exporter": "python",
   "pygments_lexer": "ipython3",
   "version": "3.7.4"
  }
 },
 "nbformat": 4,
 "nbformat_minor": 2
}
