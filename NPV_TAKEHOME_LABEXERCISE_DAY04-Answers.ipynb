{
 "cells": [
  {
   "cell_type": "markdown",
   "metadata": {},
   "source": [
    "# TAKE HOME LAB EXERCISE - 04"
   ]
  },
  {
   "cell_type": "code",
   "execution_count": 1,
   "metadata": {},
   "outputs": [],
   "source": [
    "import pandas as pd\n",
    "import os\n",
    "import matplotlib.pyplot as plt\n",
    "%matplotlib inline"
   ]
  },
  {
   "cell_type": "markdown",
   "metadata": {},
   "source": [
    "---"
   ]
  },
  {
   "cell_type": "markdown",
   "metadata": {},
   "source": [
    "**Q.no (1) . Write a code to load 'employees.csv' as data.** "
   ]
  },
  {
   "cell_type": "code",
   "execution_count": 2,
   "metadata": {},
   "outputs": [
    {
     "data": {
      "text/html": [
       "<div>\n",
       "<style scoped>\n",
       "    .dataframe tbody tr th:only-of-type {\n",
       "        vertical-align: middle;\n",
       "    }\n",
       "\n",
       "    .dataframe tbody tr th {\n",
       "        vertical-align: top;\n",
       "    }\n",
       "\n",
       "    .dataframe thead th {\n",
       "        text-align: right;\n",
       "    }\n",
       "</style>\n",
       "<table border=\"1\" class=\"dataframe\">\n",
       "  <thead>\n",
       "    <tr style=\"text-align: right;\">\n",
       "      <th></th>\n",
       "      <th>Id</th>\n",
       "      <th>F_Name</th>\n",
       "      <th>S_Name</th>\n",
       "      <th>Sex</th>\n",
       "      <th>DOB</th>\n",
       "      <th>Department</th>\n",
       "      <th>Designation</th>\n",
       "      <th>Years_Exp</th>\n",
       "      <th>Location</th>\n",
       "      <th>Salary</th>\n",
       "    </tr>\n",
       "  </thead>\n",
       "  <tbody>\n",
       "    <tr>\n",
       "      <td>0</td>\n",
       "      <td>1</td>\n",
       "      <td>Brown</td>\n",
       "      <td>Mia</td>\n",
       "      <td>Male</td>\n",
       "      <td>11/24/1987</td>\n",
       "      <td>Admin Offices</td>\n",
       "      <td>Accountant I</td>\n",
       "      <td>7</td>\n",
       "      <td>Bangalore</td>\n",
       "      <td>10000</td>\n",
       "    </tr>\n",
       "    <tr>\n",
       "      <td>1</td>\n",
       "      <td>2</td>\n",
       "      <td>LaRotonda</td>\n",
       "      <td>William</td>\n",
       "      <td>Male</td>\n",
       "      <td>4/26/1984</td>\n",
       "      <td>Admin Offices</td>\n",
       "      <td>Accountant I</td>\n",
       "      <td>8</td>\n",
       "      <td>Bangalore</td>\n",
       "      <td>10000</td>\n",
       "    </tr>\n",
       "    <tr>\n",
       "      <td>2</td>\n",
       "      <td>3</td>\n",
       "      <td>Steans</td>\n",
       "      <td>Tyrone</td>\n",
       "      <td>Male</td>\n",
       "      <td>09-01-1986</td>\n",
       "      <td>Admin Offices</td>\n",
       "      <td>Accountant I</td>\n",
       "      <td>7</td>\n",
       "      <td>Bangalore</td>\n",
       "      <td>10000</td>\n",
       "    </tr>\n",
       "    <tr>\n",
       "      <td>3</td>\n",
       "      <td>4</td>\n",
       "      <td>Howard</td>\n",
       "      <td>Estelle</td>\n",
       "      <td>Male</td>\n",
       "      <td>9/16/1985</td>\n",
       "      <td>Admin Offices</td>\n",
       "      <td>Administrative Assistant</td>\n",
       "      <td>4</td>\n",
       "      <td>Bangalore</td>\n",
       "      <td>15000</td>\n",
       "    </tr>\n",
       "    <tr>\n",
       "      <td>4</td>\n",
       "      <td>5</td>\n",
       "      <td>Singh</td>\n",
       "      <td>Nan</td>\n",
       "      <td>Male</td>\n",
       "      <td>5/19/1988</td>\n",
       "      <td>Admin Offices</td>\n",
       "      <td>Administrative Assistant</td>\n",
       "      <td>9</td>\n",
       "      <td>Bangalore</td>\n",
       "      <td>15000</td>\n",
       "    </tr>\n",
       "    <tr>\n",
       "      <td>5</td>\n",
       "      <td>6</td>\n",
       "      <td>Smith</td>\n",
       "      <td>Leigh Ann</td>\n",
       "      <td>Male</td>\n",
       "      <td>6/14/1987</td>\n",
       "      <td>Admin Offices</td>\n",
       "      <td>Administrative Assistant</td>\n",
       "      <td>3</td>\n",
       "      <td>Bangalore</td>\n",
       "      <td>15000</td>\n",
       "    </tr>\n",
       "    <tr>\n",
       "      <td>6</td>\n",
       "      <td>7</td>\n",
       "      <td>LeBlanc</td>\n",
       "      <td>Brandon  R</td>\n",
       "      <td>Male</td>\n",
       "      <td>06-10-1984</td>\n",
       "      <td>Admin Offices</td>\n",
       "      <td>Shared Services Manager</td>\n",
       "      <td>2</td>\n",
       "      <td>Bangalore</td>\n",
       "      <td>20000</td>\n",
       "    </tr>\n",
       "    <tr>\n",
       "      <td>7</td>\n",
       "      <td>8</td>\n",
       "      <td>Quinn</td>\n",
       "      <td>Sean</td>\n",
       "      <td>Female</td>\n",
       "      <td>11-06-1984</td>\n",
       "      <td>Admin Offices</td>\n",
       "      <td>Shared Services Manager</td>\n",
       "      <td>4</td>\n",
       "      <td>Bangalore</td>\n",
       "      <td>20000</td>\n",
       "    </tr>\n",
       "    <tr>\n",
       "      <td>8</td>\n",
       "      <td>9</td>\n",
       "      <td>Boutwell</td>\n",
       "      <td>Bonalyn</td>\n",
       "      <td>Female</td>\n",
       "      <td>04-04-1987</td>\n",
       "      <td>Admin Offices</td>\n",
       "      <td>Sr. Accountant</td>\n",
       "      <td>5</td>\n",
       "      <td>Bangalore</td>\n",
       "      <td>20000</td>\n",
       "    </tr>\n",
       "    <tr>\n",
       "      <td>9</td>\n",
       "      <td>10</td>\n",
       "      <td>Foster-Baker</td>\n",
       "      <td>Amy</td>\n",
       "      <td>Female</td>\n",
       "      <td>4/16/1979</td>\n",
       "      <td>Admin Offices</td>\n",
       "      <td>Sr. Accountant</td>\n",
       "      <td>3</td>\n",
       "      <td>Bangalore</td>\n",
       "      <td>20000</td>\n",
       "    </tr>\n",
       "    <tr>\n",
       "      <td>10</td>\n",
       "      <td>11</td>\n",
       "      <td>King</td>\n",
       "      <td>Janet</td>\n",
       "      <td>Female</td>\n",
       "      <td>9/21/1954</td>\n",
       "      <td>Executive Office</td>\n",
       "      <td>President &amp; CEO</td>\n",
       "      <td>4</td>\n",
       "      <td>Bangalore</td>\n",
       "      <td>120000</td>\n",
       "    </tr>\n",
       "    <tr>\n",
       "      <td>11</td>\n",
       "      <td>12</td>\n",
       "      <td>Zamora</td>\n",
       "      <td>Jennifer</td>\n",
       "      <td>Female</td>\n",
       "      <td>8/30/1979</td>\n",
       "      <td>IT/IS</td>\n",
       "      <td>CIO</td>\n",
       "      <td>6</td>\n",
       "      <td>Bangalore</td>\n",
       "      <td>120000</td>\n",
       "    </tr>\n",
       "    <tr>\n",
       "      <td>12</td>\n",
       "      <td>13</td>\n",
       "      <td>Becker</td>\n",
       "      <td>Renee</td>\n",
       "      <td>Female</td>\n",
       "      <td>04-04-1986</td>\n",
       "      <td>IT/IS</td>\n",
       "      <td>Database Administrator</td>\n",
       "      <td>4</td>\n",
       "      <td>Bangalore</td>\n",
       "      <td>50000</td>\n",
       "    </tr>\n",
       "    <tr>\n",
       "      <td>13</td>\n",
       "      <td>14</td>\n",
       "      <td>Goble</td>\n",
       "      <td>Taisha</td>\n",
       "      <td>Female</td>\n",
       "      <td>10/23/1971</td>\n",
       "      <td>IT/IS</td>\n",
       "      <td>Database Administrator</td>\n",
       "      <td>5</td>\n",
       "      <td>Bangalore</td>\n",
       "      <td>50000</td>\n",
       "    </tr>\n",
       "    <tr>\n",
       "      <td>14</td>\n",
       "      <td>15</td>\n",
       "      <td>Hernandez</td>\n",
       "      <td>Daniff</td>\n",
       "      <td>Male</td>\n",
       "      <td>08-07-1986</td>\n",
       "      <td>IT/IS</td>\n",
       "      <td>Database Administrator</td>\n",
       "      <td>3</td>\n",
       "      <td>Bangalore</td>\n",
       "      <td>50000</td>\n",
       "    </tr>\n",
       "    <tr>\n",
       "      <td>15</td>\n",
       "      <td>16</td>\n",
       "      <td>Horton</td>\n",
       "      <td>Jayne</td>\n",
       "      <td>Male</td>\n",
       "      <td>2/21/1984</td>\n",
       "      <td>IT/IS</td>\n",
       "      <td>Database Administrator</td>\n",
       "      <td>6</td>\n",
       "      <td>Bangalore</td>\n",
       "      <td>50000</td>\n",
       "    </tr>\n",
       "    <tr>\n",
       "      <td>16</td>\n",
       "      <td>17</td>\n",
       "      <td>Johnson</td>\n",
       "      <td>Noelle</td>\n",
       "      <td>Male</td>\n",
       "      <td>11-07-1986</td>\n",
       "      <td>IT/IS</td>\n",
       "      <td>Database Administrator</td>\n",
       "      <td>2</td>\n",
       "      <td>Bangalore</td>\n",
       "      <td>50000</td>\n",
       "    </tr>\n",
       "    <tr>\n",
       "      <td>17</td>\n",
       "      <td>18</td>\n",
       "      <td>Murray</td>\n",
       "      <td>Thomas</td>\n",
       "      <td>Male</td>\n",
       "      <td>07-04-1988</td>\n",
       "      <td>IT/IS</td>\n",
       "      <td>Database Administrator</td>\n",
       "      <td>3</td>\n",
       "      <td>Bangalore</td>\n",
       "      <td>50000</td>\n",
       "    </tr>\n",
       "    <tr>\n",
       "      <td>18</td>\n",
       "      <td>19</td>\n",
       "      <td>Pearson</td>\n",
       "      <td>Randall</td>\n",
       "      <td>Male</td>\n",
       "      <td>09-05-1984</td>\n",
       "      <td>IT/IS</td>\n",
       "      <td>Database Administrator</td>\n",
       "      <td>4</td>\n",
       "      <td>Bangalore</td>\n",
       "      <td>50000</td>\n",
       "    </tr>\n",
       "    <tr>\n",
       "      <td>19</td>\n",
       "      <td>20</td>\n",
       "      <td>Petrowsky</td>\n",
       "      <td>Thelma</td>\n",
       "      <td>Male</td>\n",
       "      <td>9/16/1984</td>\n",
       "      <td>IT/IS</td>\n",
       "      <td>Database Administrator</td>\n",
       "      <td>5</td>\n",
       "      <td>Bangalore</td>\n",
       "      <td>50000</td>\n",
       "    </tr>\n",
       "    <tr>\n",
       "      <td>20</td>\n",
       "      <td>21</td>\n",
       "      <td>Roby</td>\n",
       "      <td>Lori</td>\n",
       "      <td>Male</td>\n",
       "      <td>10-11-1981</td>\n",
       "      <td>IT/IS</td>\n",
       "      <td>Database Administrator</td>\n",
       "      <td>4</td>\n",
       "      <td>Bangalore</td>\n",
       "      <td>50000</td>\n",
       "    </tr>\n",
       "    <tr>\n",
       "      <td>21</td>\n",
       "      <td>22</td>\n",
       "      <td>Rogers</td>\n",
       "      <td>Ivan</td>\n",
       "      <td>Male</td>\n",
       "      <td>8/26/1986</td>\n",
       "      <td>IT/IS</td>\n",
       "      <td>Database Administrator</td>\n",
       "      <td>6</td>\n",
       "      <td>Bangalore</td>\n",
       "      <td>50000</td>\n",
       "    </tr>\n",
       "    <tr>\n",
       "      <td>22</td>\n",
       "      <td>23</td>\n",
       "      <td>Salter</td>\n",
       "      <td>Jason</td>\n",
       "      <td>Female</td>\n",
       "      <td>12/17/1987</td>\n",
       "      <td>IT/IS</td>\n",
       "      <td>Database Administrator</td>\n",
       "      <td>5</td>\n",
       "      <td>Bangalore</td>\n",
       "      <td>50000</td>\n",
       "    </tr>\n",
       "    <tr>\n",
       "      <td>23</td>\n",
       "      <td>24</td>\n",
       "      <td>Simard</td>\n",
       "      <td>Kramer</td>\n",
       "      <td>Female</td>\n",
       "      <td>02-08-1970</td>\n",
       "      <td>IT/IS</td>\n",
       "      <td>Database Administrator</td>\n",
       "      <td>7</td>\n",
       "      <td>Bangalore</td>\n",
       "      <td>50000</td>\n",
       "    </tr>\n",
       "    <tr>\n",
       "      <td>24</td>\n",
       "      <td>25</td>\n",
       "      <td>Zhou</td>\n",
       "      <td>Julia</td>\n",
       "      <td>Female</td>\n",
       "      <td>2/24/1979</td>\n",
       "      <td>IT/IS</td>\n",
       "      <td>Database Administrator</td>\n",
       "      <td>8</td>\n",
       "      <td>Bangalore</td>\n",
       "      <td>50000</td>\n",
       "    </tr>\n",
       "    <tr>\n",
       "      <td>25</td>\n",
       "      <td>26</td>\n",
       "      <td>Foss</td>\n",
       "      <td>Jason</td>\n",
       "      <td>Female</td>\n",
       "      <td>07-05-1980</td>\n",
       "      <td>IT/IS</td>\n",
       "      <td>IT Director</td>\n",
       "      <td>7</td>\n",
       "      <td>Bangalore</td>\n",
       "      <td>75000</td>\n",
       "    </tr>\n",
       "    <tr>\n",
       "      <td>26</td>\n",
       "      <td>27</td>\n",
       "      <td>Roup</td>\n",
       "      <td>Simon</td>\n",
       "      <td>Female</td>\n",
       "      <td>04-05-1973</td>\n",
       "      <td>IT/IS</td>\n",
       "      <td>IT Manager - DB</td>\n",
       "      <td>5</td>\n",
       "      <td>Bangalore</td>\n",
       "      <td>75000</td>\n",
       "    </tr>\n",
       "    <tr>\n",
       "      <td>27</td>\n",
       "      <td>28</td>\n",
       "      <td>Ruiz</td>\n",
       "      <td>Ricardo</td>\n",
       "      <td>Female</td>\n",
       "      <td>01-04-1964</td>\n",
       "      <td>IT/IS</td>\n",
       "      <td>IT Manager - DB</td>\n",
       "      <td>4</td>\n",
       "      <td>Bangalore</td>\n",
       "      <td>75000</td>\n",
       "    </tr>\n",
       "    <tr>\n",
       "      <td>28</td>\n",
       "      <td>29</td>\n",
       "      <td>Monroe</td>\n",
       "      <td>Peter</td>\n",
       "      <td>Female</td>\n",
       "      <td>10-05-1986</td>\n",
       "      <td>IT/IS</td>\n",
       "      <td>IT Manager - Infra</td>\n",
       "      <td>5</td>\n",
       "      <td>Bangalore</td>\n",
       "      <td>75000</td>\n",
       "    </tr>\n",
       "    <tr>\n",
       "      <td>29</td>\n",
       "      <td>30</td>\n",
       "      <td>Dougall</td>\n",
       "      <td>Eric</td>\n",
       "      <td>Female</td>\n",
       "      <td>07-09-1970</td>\n",
       "      <td>IT/IS</td>\n",
       "      <td>IT Manager - Support</td>\n",
       "      <td>5</td>\n",
       "      <td>Bangalore</td>\n",
       "      <td>75000</td>\n",
       "    </tr>\n",
       "    <tr>\n",
       "      <td>30</td>\n",
       "      <td>31</td>\n",
       "      <td>Clayton</td>\n",
       "      <td>Rick</td>\n",
       "      <td>Female</td>\n",
       "      <td>09-05-1985</td>\n",
       "      <td>IT/IS</td>\n",
       "      <td>IT Support</td>\n",
       "      <td>5</td>\n",
       "      <td>Bangalore</td>\n",
       "      <td>80000</td>\n",
       "    </tr>\n",
       "    <tr>\n",
       "      <td>31</td>\n",
       "      <td>32</td>\n",
       "      <td>Galia</td>\n",
       "      <td>Lisa</td>\n",
       "      <td>Female</td>\n",
       "      <td>07-06-1968</td>\n",
       "      <td>IT/IS</td>\n",
       "      <td>IT Support</td>\n",
       "      <td>5</td>\n",
       "      <td>Bangalore</td>\n",
       "      <td>80000</td>\n",
       "    </tr>\n",
       "    <tr>\n",
       "      <td>32</td>\n",
       "      <td>33</td>\n",
       "      <td>Lindsay</td>\n",
       "      <td>Leonara</td>\n",
       "      <td>Female</td>\n",
       "      <td>10-05-1988</td>\n",
       "      <td>IT/IS</td>\n",
       "      <td>IT Support</td>\n",
       "      <td>5</td>\n",
       "      <td>Bangalore</td>\n",
       "      <td>80000</td>\n",
       "    </tr>\n",
       "    <tr>\n",
       "      <td>33</td>\n",
       "      <td>34</td>\n",
       "      <td>Soto</td>\n",
       "      <td>Julia</td>\n",
       "      <td>Female</td>\n",
       "      <td>03-12-1973</td>\n",
       "      <td>IT/IS</td>\n",
       "      <td>IT Support</td>\n",
       "      <td>9</td>\n",
       "      <td>Bangalore</td>\n",
       "      <td>80000</td>\n",
       "    </tr>\n",
       "    <tr>\n",
       "      <td>34</td>\n",
       "      <td>35</td>\n",
       "      <td>Bacon</td>\n",
       "      <td>Alejandro</td>\n",
       "      <td>Female</td>\n",
       "      <td>01-07-1988</td>\n",
       "      <td>IT/IS</td>\n",
       "      <td>Network Engineer</td>\n",
       "      <td>8</td>\n",
       "      <td>Bangalore</td>\n",
       "      <td>85000</td>\n",
       "    </tr>\n",
       "    <tr>\n",
       "      <td>35</td>\n",
       "      <td>36</td>\n",
       "      <td>Cisco</td>\n",
       "      <td>Anthony</td>\n",
       "      <td>Female</td>\n",
       "      <td>11/24/1989</td>\n",
       "      <td>IT/IS</td>\n",
       "      <td>Network Engineer</td>\n",
       "      <td>6</td>\n",
       "      <td>Bangalore</td>\n",
       "      <td>85000</td>\n",
       "    </tr>\n",
       "    <tr>\n",
       "      <td>36</td>\n",
       "      <td>37</td>\n",
       "      <td>Dolan</td>\n",
       "      <td>Linda</td>\n",
       "      <td>Female</td>\n",
       "      <td>7/18/1988</td>\n",
       "      <td>IT/IS</td>\n",
       "      <td>Network Engineer</td>\n",
       "      <td>5</td>\n",
       "      <td>Bangalore</td>\n",
       "      <td>85000</td>\n",
       "    </tr>\n",
       "    <tr>\n",
       "      <td>37</td>\n",
       "      <td>38</td>\n",
       "      <td>Gonzalez</td>\n",
       "      <td>Maria</td>\n",
       "      <td>Female</td>\n",
       "      <td>4/16/1981</td>\n",
       "      <td>IT/IS</td>\n",
       "      <td>Network Engineer</td>\n",
       "      <td>6</td>\n",
       "      <td>Bangalore</td>\n",
       "      <td>85000</td>\n",
       "    </tr>\n",
       "    <tr>\n",
       "      <td>38</td>\n",
       "      <td>39</td>\n",
       "      <td>Merlos</td>\n",
       "      <td>Carlos</td>\n",
       "      <td>Male</td>\n",
       "      <td>6/18/1987</td>\n",
       "      <td>IT/IS</td>\n",
       "      <td>Network Engineer</td>\n",
       "      <td>4</td>\n",
       "      <td>Bangalore</td>\n",
       "      <td>85000</td>\n",
       "    </tr>\n",
       "    <tr>\n",
       "      <td>39</td>\n",
       "      <td>40</td>\n",
       "      <td>Morway</td>\n",
       "      <td>Tanya</td>\n",
       "      <td>Male</td>\n",
       "      <td>04-04-1979</td>\n",
       "      <td>IT/IS</td>\n",
       "      <td>Network Engineer</td>\n",
       "      <td>4</td>\n",
       "      <td>Bangalore</td>\n",
       "      <td>85000</td>\n",
       "    </tr>\n",
       "    <tr>\n",
       "      <td>40</td>\n",
       "      <td>41</td>\n",
       "      <td>Shepard</td>\n",
       "      <td>Anita</td>\n",
       "      <td>Male</td>\n",
       "      <td>4/14/1981</td>\n",
       "      <td>IT/IS</td>\n",
       "      <td>Network Engineer</td>\n",
       "      <td>5</td>\n",
       "      <td>Bangalore</td>\n",
       "      <td>85000</td>\n",
       "    </tr>\n",
       "    <tr>\n",
       "      <td>41</td>\n",
       "      <td>42</td>\n",
       "      <td>Tredinnick</td>\n",
       "      <td>Neville</td>\n",
       "      <td>Male</td>\n",
       "      <td>05-05-1988</td>\n",
       "      <td>IT/IS</td>\n",
       "      <td>Network Engineer</td>\n",
       "      <td>6</td>\n",
       "      <td>Bangalore</td>\n",
       "      <td>85000</td>\n",
       "    </tr>\n",
       "    <tr>\n",
       "      <td>42</td>\n",
       "      <td>43</td>\n",
       "      <td>Turpin</td>\n",
       "      <td>Jumil</td>\n",
       "      <td>Male</td>\n",
       "      <td>3/31/1969</td>\n",
       "      <td>IT/IS</td>\n",
       "      <td>Network Engineer</td>\n",
       "      <td>6</td>\n",
       "      <td>Bangalore</td>\n",
       "      <td>85000</td>\n",
       "    </tr>\n",
       "    <tr>\n",
       "      <td>43</td>\n",
       "      <td>44</td>\n",
       "      <td>Ait Sidi</td>\n",
       "      <td>Karthikeyan</td>\n",
       "      <td>Male</td>\n",
       "      <td>05-05-1975</td>\n",
       "      <td>IT/IS</td>\n",
       "      <td>Sr. DBA</td>\n",
       "      <td>3</td>\n",
       "      <td>Bangalore</td>\n",
       "      <td>95000</td>\n",
       "    </tr>\n",
       "    <tr>\n",
       "      <td>44</td>\n",
       "      <td>45</td>\n",
       "      <td>Carr</td>\n",
       "      <td>Claudia  N</td>\n",
       "      <td>Male</td>\n",
       "      <td>06-06-1986</td>\n",
       "      <td>IT/IS</td>\n",
       "      <td>Sr. DBA</td>\n",
       "      <td>6</td>\n",
       "      <td>Bangalore</td>\n",
       "      <td>95000</td>\n",
       "    </tr>\n",
       "    <tr>\n",
       "      <td>45</td>\n",
       "      <td>46</td>\n",
       "      <td>Favis</td>\n",
       "      <td>Donald</td>\n",
       "      <td>Female</td>\n",
       "      <td>7/30/1964</td>\n",
       "      <td>IT/IS</td>\n",
       "      <td>Sr. DBA</td>\n",
       "      <td>7</td>\n",
       "      <td>Bangalore</td>\n",
       "      <td>95000</td>\n",
       "    </tr>\n",
       "    <tr>\n",
       "      <td>46</td>\n",
       "      <td>47</td>\n",
       "      <td>Roehrich</td>\n",
       "      <td>Bianca</td>\n",
       "      <td>Female</td>\n",
       "      <td>5/27/1973</td>\n",
       "      <td>IT/IS</td>\n",
       "      <td>Sr. DBA</td>\n",
       "      <td>5</td>\n",
       "      <td>Bangalore</td>\n",
       "      <td>95000</td>\n",
       "    </tr>\n",
       "    <tr>\n",
       "      <td>47</td>\n",
       "      <td>48</td>\n",
       "      <td>Daniele</td>\n",
       "      <td>Ann</td>\n",
       "      <td>Female</td>\n",
       "      <td>1/18/1952</td>\n",
       "      <td>IT/IS</td>\n",
       "      <td>Sr. Network Engineer</td>\n",
       "      <td>6</td>\n",
       "      <td>Bangalore</td>\n",
       "      <td>100000</td>\n",
       "    </tr>\n",
       "    <tr>\n",
       "      <td>48</td>\n",
       "      <td>49</td>\n",
       "      <td>Lajiri</td>\n",
       "      <td>Jyoti</td>\n",
       "      <td>Male</td>\n",
       "      <td>4/23/1986</td>\n",
       "      <td>IT/IS</td>\n",
       "      <td>Sr. Network Engineer</td>\n",
       "      <td>4</td>\n",
       "      <td>Bangalore</td>\n",
       "      <td>100000</td>\n",
       "    </tr>\n",
       "    <tr>\n",
       "      <td>49</td>\n",
       "      <td>50</td>\n",
       "      <td>Semizoglou</td>\n",
       "      <td>Jeremiah</td>\n",
       "      <td>Male</td>\n",
       "      <td>02-09-1983</td>\n",
       "      <td>IT/IS</td>\n",
       "      <td>Sr. Network Engineer</td>\n",
       "      <td>4</td>\n",
       "      <td>Bangalore</td>\n",
       "      <td>100000</td>\n",
       "    </tr>\n",
       "  </tbody>\n",
       "</table>\n",
       "</div>"
      ],
      "text/plain": [
       "    Id        F_Name           S_Name     Sex         DOB        Department  \\\n",
       "0    1         Brown              Mia    Male  11/24/1987     Admin Offices   \n",
       "1    2     LaRotonda         William     Male   4/26/1984     Admin Offices   \n",
       "2    3        Steans         Tyrone      Male  09-01-1986     Admin Offices   \n",
       "3    4        Howard          Estelle    Male   9/16/1985     Admin Offices   \n",
       "4    5         Singh             Nan     Male   5/19/1988     Admin Offices   \n",
       "5    6         Smith        Leigh Ann    Male   6/14/1987     Admin Offices   \n",
       "6    7       LeBlanc       Brandon  R    Male  06-10-1984     Admin Offices   \n",
       "7    8         Quinn             Sean  Female  11-06-1984     Admin Offices   \n",
       "8    9      Boutwell          Bonalyn  Female  04-04-1987     Admin Offices   \n",
       "9   10  Foster-Baker              Amy  Female   4/16/1979     Admin Offices   \n",
       "10  11          King            Janet  Female   9/21/1954  Executive Office   \n",
       "11  12        Zamora         Jennifer  Female   8/30/1979             IT/IS   \n",
       "12  13        Becker            Renee  Female  04-04-1986             IT/IS   \n",
       "13  14         Goble           Taisha  Female  10/23/1971             IT/IS   \n",
       "14  15     Hernandez           Daniff    Male  08-07-1986             IT/IS   \n",
       "15  16        Horton            Jayne    Male   2/21/1984             IT/IS   \n",
       "16  17       Johnson          Noelle     Male  11-07-1986             IT/IS   \n",
       "17  18        Murray           Thomas    Male  07-04-1988             IT/IS   \n",
       "18  19       Pearson          Randall    Male  09-05-1984             IT/IS   \n",
       "19  20     Petrowsky           Thelma    Male   9/16/1984             IT/IS   \n",
       "20  21          Roby            Lori     Male  10-11-1981             IT/IS   \n",
       "21  22        Rogers             Ivan    Male   8/26/1986             IT/IS   \n",
       "22  23        Salter            Jason  Female  12/17/1987             IT/IS   \n",
       "23  24        Simard           Kramer  Female  02-08-1970             IT/IS   \n",
       "24  25          Zhou            Julia  Female   2/24/1979             IT/IS   \n",
       "25  26          Foss            Jason  Female  07-05-1980             IT/IS   \n",
       "26  27          Roup            Simon  Female  04-05-1973             IT/IS   \n",
       "27  28          Ruiz          Ricardo  Female  01-04-1964             IT/IS   \n",
       "28  29        Monroe            Peter  Female  10-05-1986             IT/IS   \n",
       "29  30       Dougall             Eric  Female  07-09-1970             IT/IS   \n",
       "30  31       Clayton             Rick  Female  09-05-1985             IT/IS   \n",
       "31  32         Galia             Lisa  Female  07-06-1968             IT/IS   \n",
       "32  33       Lindsay         Leonara   Female  10-05-1988             IT/IS   \n",
       "33  34          Soto           Julia   Female  03-12-1973             IT/IS   \n",
       "34  35         Bacon       Alejandro   Female  01-07-1988             IT/IS   \n",
       "35  36         Cisco          Anthony  Female  11/24/1989             IT/IS   \n",
       "36  37         Dolan            Linda  Female   7/18/1988             IT/IS   \n",
       "37  38      Gonzalez            Maria  Female   4/16/1981             IT/IS   \n",
       "38  39        Merlos           Carlos    Male   6/18/1987             IT/IS   \n",
       "39  40        Morway            Tanya    Male  04-04-1979             IT/IS   \n",
       "40  41       Shepard           Anita     Male   4/14/1981             IT/IS   \n",
       "41  42    Tredinnick         Neville     Male  05-05-1988             IT/IS   \n",
       "42  43        Turpin            Jumil    Male   3/31/1969             IT/IS   \n",
       "43  44      Ait Sidi   Karthikeyan       Male  05-05-1975             IT/IS   \n",
       "44  45          Carr       Claudia  N    Male  06-06-1986             IT/IS   \n",
       "45  46         Favis         Donald    Female   7/30/1964             IT/IS   \n",
       "46  47      Roehrich           Bianca  Female   5/27/1973             IT/IS   \n",
       "47  48       Daniele             Ann   Female   1/18/1952             IT/IS   \n",
       "48  49       Lajiri             Jyoti    Male   4/23/1986             IT/IS   \n",
       "49  50    Semizoglou       Jeremiah      Male  02-09-1983             IT/IS   \n",
       "\n",
       "                 Designation  Years_Exp   Location  Salary  \n",
       "0               Accountant I          7  Bangalore   10000  \n",
       "1               Accountant I          8  Bangalore   10000  \n",
       "2               Accountant I          7  Bangalore   10000  \n",
       "3   Administrative Assistant          4  Bangalore   15000  \n",
       "4   Administrative Assistant          9  Bangalore   15000  \n",
       "5   Administrative Assistant          3  Bangalore   15000  \n",
       "6    Shared Services Manager          2  Bangalore   20000  \n",
       "7    Shared Services Manager          4  Bangalore   20000  \n",
       "8             Sr. Accountant          5  Bangalore   20000  \n",
       "9             Sr. Accountant          3  Bangalore   20000  \n",
       "10           President & CEO          4  Bangalore  120000  \n",
       "11                       CIO          6  Bangalore  120000  \n",
       "12    Database Administrator          4  Bangalore   50000  \n",
       "13    Database Administrator          5  Bangalore   50000  \n",
       "14    Database Administrator          3  Bangalore   50000  \n",
       "15    Database Administrator          6  Bangalore   50000  \n",
       "16    Database Administrator          2  Bangalore   50000  \n",
       "17    Database Administrator          3  Bangalore   50000  \n",
       "18    Database Administrator          4  Bangalore   50000  \n",
       "19    Database Administrator          5  Bangalore   50000  \n",
       "20    Database Administrator          4  Bangalore   50000  \n",
       "21    Database Administrator          6  Bangalore   50000  \n",
       "22    Database Administrator          5  Bangalore   50000  \n",
       "23    Database Administrator          7  Bangalore   50000  \n",
       "24    Database Administrator          8  Bangalore   50000  \n",
       "25               IT Director          7  Bangalore   75000  \n",
       "26           IT Manager - DB          5  Bangalore   75000  \n",
       "27           IT Manager - DB          4  Bangalore   75000  \n",
       "28        IT Manager - Infra          5  Bangalore   75000  \n",
       "29      IT Manager - Support          5  Bangalore   75000  \n",
       "30                IT Support          5  Bangalore   80000  \n",
       "31                IT Support          5  Bangalore   80000  \n",
       "32                IT Support          5  Bangalore   80000  \n",
       "33                IT Support          9  Bangalore   80000  \n",
       "34          Network Engineer          8  Bangalore   85000  \n",
       "35          Network Engineer          6  Bangalore   85000  \n",
       "36          Network Engineer          5  Bangalore   85000  \n",
       "37          Network Engineer          6  Bangalore   85000  \n",
       "38          Network Engineer          4  Bangalore   85000  \n",
       "39          Network Engineer          4  Bangalore   85000  \n",
       "40          Network Engineer          5  Bangalore   85000  \n",
       "41          Network Engineer          6  Bangalore   85000  \n",
       "42          Network Engineer          6  Bangalore   85000  \n",
       "43                   Sr. DBA          3  Bangalore   95000  \n",
       "44                   Sr. DBA          6  Bangalore   95000  \n",
       "45                   Sr. DBA          7  Bangalore   95000  \n",
       "46                   Sr. DBA          5  Bangalore   95000  \n",
       "47      Sr. Network Engineer          6  Bangalore  100000  \n",
       "48      Sr. Network Engineer          4  Bangalore  100000  \n",
       "49      Sr. Network Engineer          4  Bangalore  100000  "
      ]
     },
     "execution_count": 2,
     "metadata": {},
     "output_type": "execute_result"
    }
   ],
   "source": [
    "data = pd.read_csv('employees.csv')\n",
    "data"
   ]
  },
  {
   "cell_type": "markdown",
   "metadata": {},
   "source": [
    "----"
   ]
  },
  {
   "cell_type": "markdown",
   "metadata": {},
   "source": [
    "**Q.no(2). Write a code to show the `count of male and female` of `employees` using `bar plot`.[USE MATPLOTLIB]**"
   ]
  },
  {
   "cell_type": "code",
   "execution_count": 10,
   "metadata": {},
   "outputs": [
    {
     "data": {
      "text/plain": [
       "<matplotlib.axes._subplots.AxesSubplot at 0xc82deb60c8>"
      ]
     },
     "execution_count": 10,
     "metadata": {},
     "output_type": "execute_result"
    },
    {
     "data": {
      "image/png": "[encoded data removed]",
      "text/plain": [
       "<Figure size 432x288 with 1 Axes>"
      ]
     },
     "metadata": {
      "needs_background": "light"
     },
     "output_type": "display_data"
    }
   ],
   "source": [
    "data.groupby('Sex').count()['Id'].plot(kind='bar')"
   ]
  },
  {
   "cell_type": "markdown",
   "metadata": {},
   "source": [
    "-----"
   ]
  },
  {
   "cell_type": "markdown",
   "metadata": {},
   "source": [
    "**Q.no(3). Write a code to show the salary distribution of employees in a company using histogram plot for employees dataset where `title - 'histogram for salary distribution'`, `color is green`, `bin size is 10`.[USE MATPLOTLIB]**"
   ]
  },
  {
   "cell_type": "code",
   "execution_count": 3,
   "metadata": {},
   "outputs": [
    {
     "data": {
      "text/plain": [
       "<matplotlib.axes._subplots.AxesSubplot at 0x57ca3b3488>"
      ]
     },
     "execution_count": 3,
     "metadata": {},
     "output_type": "execute_result"
    },
    {
     "data": {
      "image/png": "[encoded data removed]",
      "text/plain": [
       "<Figure size 432x288 with 1 Axes>"
      ]
     },
     "metadata": {
      "needs_background": "light"
     },
     "output_type": "display_data"
    }
   ],
   "source": [
    "data['Salary'].plot(kind='hist',title='histogram for salary distribution',color = 'g' , bins = 10)"
   ]
  },
  {
   "cell_type": "markdown",
   "metadata": {},
   "source": [
    "-------"
   ]
  },
  {
   "cell_type": "markdown",
   "metadata": {},
   "source": [
    "**Q.no(4). Write a code to plot a boxplot on a `Years_Exp` column for employees dataset.[USE MATPLOTLIB]**"
   ]
  },
  {
   "cell_type": "code",
   "execution_count": 13,
   "metadata": {},
   "outputs": [
    {
     "data": {
      "text/plain": [
       "<matplotlib.axes._subplots.AxesSubplot at 0xc833eba348>"
      ]
     },
     "execution_count": 13,
     "metadata": {},
     "output_type": "execute_result"
    },
    {
     "data": {
      "image/png": "[encoded data removed]",
      "text/plain": [
       "<Figure size 432x288 with 1 Axes>"
      ]
     },
     "metadata": {
      "needs_background": "light"
     },
     "output_type": "display_data"
    }
   ],
   "source": [
    "data['Years_Exp'].plot(kind='box')"
   ]
  },
  {
   "cell_type": "markdown",
   "metadata": {},
   "source": [
    "-----"
   ]
  },
  {
   "cell_type": "markdown",
   "metadata": {},
   "source": [
    "**Q.no(5). Write a code to plot a scatterplot where x-axis = `year of experience`,y-axis = `Salary` for employees dataset where `color is 'red'` and `title - 'scatter plot : year of exp vs salary``.[USE MATPLOTLIB]**"
   ]
  },
  {
   "cell_type": "code",
   "execution_count": 15,
   "metadata": {},
   "outputs": [
    {
     "data": {
      "image/png": "[encoded data removed]",
      "text/plain": [
       "<Figure size 432x288 with 1 Axes>"
      ]
     },
     "metadata": {
      "needs_background": "light"
     },
     "output_type": "display_data"
    }
   ],
   "source": [
    "plt.scatter(data = data , x='Years_Exp' , y = 'Salary' , color = 'r')\n",
    "plt.title('scatter plot : year of exp vs salary')\n",
    "plt.show()"
   ]
  },
  {
   "cell_type": "markdown",
   "metadata": {},
   "source": [
    "----"
   ]
  },
  {
   "cell_type": "code",
   "execution_count": 5,
   "metadata": {},
   "outputs": [],
   "source": [
    "import seaborn as sns"
   ]
  },
  {
   "cell_type": "markdown",
   "metadata": {},
   "source": [
    "**Q.no(6). Write a code to show a `heatmap` that represents the `Correlation` between the columns for employees dataset.[Use `Seaborn`]**"
   ]
  },
  {
   "cell_type": "code",
   "execution_count": 6,
   "metadata": {},
   "outputs": [
    {
     "data": {
      "text/plain": [
       "(3.0, 0.0)"
      ]
     },
     "execution_count": 6,
     "metadata": {},
     "output_type": "execute_result"
    },
    {
     "data": {
      "image/png": "[encoded data removed]",
      "text/plain": [
       "<Figure size 432x288 with 2 Axes>"
      ]
     },
     "metadata": {
      "needs_background": "light"
     },
     "output_type": "display_data"
    }
   ],
   "source": [
    "cmatrix = data.corr()\n",
    "ax = sns.heatmap(data = cmatrix , annot=True)\n",
    "top, bottom = ax.get_ylim()\n",
    "ax.set_ylim(top + 0.5, bottom - 0.5)"
   ]
  },
  {
   "cell_type": "markdown",
   "metadata": {},
   "source": [
    "-----"
   ]
  },
  {
   "cell_type": "markdown",
   "metadata": {},
   "source": [
    "**Q.no(7). Write a code to show `distplot` on `'year of experience'` column for `employees` dataset where `bin size '20'`, `kde is true`.** "
   ]
  },
  {
   "cell_type": "code",
   "execution_count": 21,
   "metadata": {},
   "outputs": [
    {
     "data": {
      "text/plain": [
       "<matplotlib.axes._subplots.AxesSubplot at 0xc83514cdc8>"
      ]
     },
     "execution_count": 21,
     "metadata": {},
     "output_type": "execute_result"
    },
    {
     "data": {
      "image/png": "[encoded data removed]",
      "text/plain": [
       "<Figure size 432x288 with 1 Axes>"
      ]
     },
     "metadata": {
      "needs_background": "light"
     },
     "output_type": "display_data"
    }
   ],
   "source": [
    "sns.distplot(a=data['Years_Exp'], bins=20 , kde= True)"
   ]
  },
  {
   "cell_type": "markdown",
   "metadata": {},
   "source": [
    "-------"
   ]
  },
  {
   "cell_type": "markdown",
   "metadata": {},
   "source": [
    "**Q.no(8). Write a code to show `swarmplot` on `x-axis-'department'` and  `y-axis-'salary'` for `employees` dataset.** "
   ]
  },
  {
   "cell_type": "code",
   "execution_count": 22,
   "metadata": {},
   "outputs": [
    {
     "data": {
      "text/plain": [
       "<matplotlib.axes._subplots.AxesSubplot at 0xc82e0fed08>"
      ]
     },
     "execution_count": 22,
     "metadata": {},
     "output_type": "execute_result"
    },
    {
     "data": {
      "image/png": "[encoded data removed]",
      "text/plain": [
       "<Figure size 432x288 with 1 Axes>"
      ]
     },
     "metadata": {
      "needs_background": "light"
     },
     "output_type": "display_data"
    }
   ],
   "source": [
    "sns.swarmplot(data = data , x='Department' , y= 'Salary')"
   ]
  },
  {
   "cell_type": "markdown",
   "metadata": {},
   "source": [
    "------------------"
   ]
  },
  {
   "cell_type": "markdown",
   "metadata": {},
   "source": [
    "**Q.no(9). Write a code to show `boxplot` on `x-axis-'Years_Exp'` and  `y-axis-'Salary'` for `employees` dataset`.[use seaborn]**"
   ]
  },
  {
   "cell_type": "code",
   "execution_count": 23,
   "metadata": {},
   "outputs": [
    {
     "data": {
      "text/plain": [
       "<matplotlib.axes._subplots.AxesSubplot at 0xc835275c88>"
      ]
     },
     "execution_count": 23,
     "metadata": {},
     "output_type": "execute_result"
    },
    {
     "data": {
      "image/png": "[encoded data removed]",
      "text/plain": [
       "<Figure size 432x288 with 1 Axes>"
      ]
     },
     "metadata": {
      "needs_background": "light"
     },
     "output_type": "display_data"
    }
   ],
   "source": [
    "sns.boxplot(data = data , x = 'Years_Exp' , y = 'Salary')"
   ]
  },
  {
   "cell_type": "markdown",
   "metadata": {},
   "source": [
    "-----"
   ]
  },
  {
   "cell_type": "markdown",
   "metadata": {},
   "source": [
    "**Q.no(10). Write a code to show the `regressionplot` on `x-axis='Years_Exp'`,`y-axis='Salary'` for  `employees dataset` `including 'marker'` and color was `red`.[using seaborn]**"
   ]
  },
  {
   "cell_type": "code",
   "execution_count": 24,
   "metadata": {},
   "outputs": [
    {
     "data": {
      "text/plain": [
       "<matplotlib.axes._subplots.AxesSubplot at 0xc836d7fec8>"
      ]
     },
     "execution_count": 24,
     "metadata": {},
     "output_type": "execute_result"
    },
    {
     "data": {
      "image/png": "[encoded data removed]",
      "text/plain": [
       "<Figure size 432x288 with 1 Axes>"
      ]
     },
     "metadata": {
      "needs_background": "light"
     },
     "output_type": "display_data"
    }
   ],
   "source": [
    "sns.regplot(data = data , x='Years_Exp' , y = 'Salary')"
   ]
  },
  {
   "cell_type": "markdown",
   "metadata": {},
   "source": [
    "--------"
   ]
  },
  {
   "cell_type": "markdown",
   "metadata": {},
   "source": [
    "**Q.no(11). Write a code to show `pairplot` on `employees` dataset.[use seaborn]**"
   ]
  },
  {
   "cell_type": "code",
   "execution_count": 25,
   "metadata": {},
   "outputs": [
    {
     "data": {
      "text/plain": [
       "<seaborn.axisgrid.PairGrid at 0xc83708d0c8>"
      ]
     },
     "execution_count": 25,
     "metadata": {},
     "output_type": "execute_result"
    },
    {
     "data": {
      "image/png": "[encoded data removed]",
      "text/plain": [
       "<Figure size 540x540 with 12 Axes>"
      ]
     },
     "metadata": {
      "needs_background": "light"
     },
     "output_type": "display_data"
    }
   ],
   "source": [
    "sns.pairplot(data = data)"
   ]
  },
  {
   "cell_type": "markdown",
   "metadata": {},
   "source": [
    "--------"
   ]
  },
  {
   "cell_type": "markdown",
   "metadata": {},
   "source": [
    "# ----------------------------- HAPPY LEARNING ----------------------------------------"
   ]
  },
  {
   "cell_type": "markdown",
   "metadata": {},
   "source": [
    "------------------"
   ]
  }
 ],
 "metadata": {
  "kernelspec": {
   "display_name": "Python 3",
   "language": "python",
   "name": "python3"
  },
  "language_info": {
   "codemirror_mode": {
    "name": "ipython",
    "version": 3
   },
   "file_extension": ".py",
   "mimetype": "text/x-python",
   "name": "python",
   "nbconvert_exporter": "python",
   "pygments_lexer": "ipython3",
   "version": "3.7.4"
  }
 },
 "nbformat": 4,
 "nbformat_minor": 2
}
